{
 "cells": [
  {
   "cell_type": "markdown",
   "id": "397546ff",
   "metadata": {},
   "source": [
    "# Train for Memorization and Generalization"
   ]
  },
  {
   "cell_type": "code",
   "execution_count": 1,
   "id": "15903d3a",
   "metadata": {},
   "outputs": [],
   "source": [
    "import numpy as np\n",
    "import matplotlib.pyplot as plt\n",
    "import pandas as pd\n",
    "from sklearn.metrics import classification_report,accuracy_score,confusion_matrix\n",
    "from sklearn.neural_network import MLPClassifier\n",
    "from sklearn.model_selection import train_test_split"
   ]
  },
  {
   "cell_type": "markdown",
   "id": "f8dfafbe",
   "metadata": {},
   "source": [
    "## Dataset"
   ]
  },
  {
   "cell_type": "code",
   "execution_count": 2,
   "id": "875af734",
   "metadata": {
    "scrolled": true
   },
   "outputs": [],
   "source": [
    "data = pd.read_csv(\"combined_features.csv\")"
   ]
  },
  {
   "cell_type": "code",
   "execution_count": 3,
   "id": "d0cb165d",
   "metadata": {},
   "outputs": [],
   "source": [
    "X = data.iloc[:,1:-1]\n",
    "y = data.iloc[:,-1]"
   ]
  },
  {
   "cell_type": "code",
   "execution_count": 4,
   "id": "3d5aee1d",
   "metadata": {},
   "outputs": [
    {
     "data": {
      "text/plain": [
       "(903, 131072)"
      ]
     },
     "execution_count": 4,
     "metadata": {},
     "output_type": "execute_result"
    }
   ],
   "source": [
    "X.shape"
   ]
  },
  {
   "cell_type": "markdown",
   "id": "4b7e8145",
   "metadata": {},
   "source": [
    "## Train for Memorization"
   ]
  },
  {
   "cell_type": "code",
   "execution_count": 9,
   "id": "0d12d800",
   "metadata": {},
   "outputs": [
    {
     "data": {
      "text/plain": [
       "1.0"
      ]
     },
     "execution_count": 9,
     "metadata": {},
     "output_type": "execute_result"
    }
   ],
   "source": [
    "clf = MLPClassifier(\n",
    "                hidden_layer_sizes=(60,), \n",
    "                random_state=42,\n",
    "                activation='relu')\n",
    "clf.fit(X,y)\n",
    "(clf.predict(X) == y).sum() / len(y)"
   ]
  },
  {
   "cell_type": "markdown",
   "id": "33e1ac27",
   "metadata": {},
   "source": [
    "## Train for Generalization"
   ]
  },
  {
   "cell_type": "code",
   "execution_count": 6,
   "id": "734892ac",
   "metadata": {},
   "outputs": [],
   "source": [
    "STARE_x = X.iloc[0:385]\n",
    "ODIR_x = X.iloc[385:]\n",
    "STARE_y = y.iloc[0:385]\n",
    "ODIR_y = y.iloc[385:]\n",
    "STARE_x_train, STARE_x_val, STARE_y_train, STARE_y_val = train_test_split(STARE_x, STARE_y, random_state=42, test_size=0.2)\n",
    "ODIR_x_train, ODIR_x_val, ODIR_y_train, ODIR_y_val = train_test_split(ODIR_x, ODIR_y, random_state = 42, test_size=0.2)\n",
    "X_train = pd.concat([STARE_x_train,ODIR_x_train])\n",
    "X_val = pd.concat([STARE_x_val,ODIR_x_val])\n",
    "y_train = pd.concat([STARE_y_train,ODIR_y_train])\n",
    "y_val = pd.concat([STARE_y_val,ODIR_y_val])"
   ]
  },
  {
   "cell_type": "code",
   "execution_count": 10,
   "id": "826c386b",
   "metadata": {},
   "outputs": [
    {
     "name": "stdout",
     "output_type": "stream",
     "text": [
      "Now training + evaluating on hidden size 1\n",
      "Now training + evaluating on hidden size 2\n",
      "Now training + evaluating on hidden size 3\n",
      "Now training + evaluating on hidden size 4\n",
      "Now training + evaluating on hidden size 5\n",
      "Now training + evaluating on hidden size 6\n",
      "Now training + evaluating on hidden size 7\n",
      "Now training + evaluating on hidden size 8\n",
      "Now training + evaluating on hidden size 9\n",
      "Now training + evaluating on hidden size 10\n",
      "Now training + evaluating on hidden size 11\n",
      "Now training + evaluating on hidden size 12\n",
      "Now training + evaluating on hidden size 13\n",
      "Now training + evaluating on hidden size 14\n",
      "Now training + evaluating on hidden size 15\n",
      "Now training + evaluating on hidden size 16\n",
      "Now training + evaluating on hidden size 17\n",
      "Now training + evaluating on hidden size 18\n",
      "Now training + evaluating on hidden size 19\n",
      "Now training + evaluating on hidden size 20\n",
      "Now training + evaluating on hidden size 21\n",
      "Now training + evaluating on hidden size 22\n",
      "Now training + evaluating on hidden size 23\n",
      "Now training + evaluating on hidden size 24\n",
      "Now training + evaluating on hidden size 25\n",
      "Now training + evaluating on hidden size 26\n",
      "Now training + evaluating on hidden size 27\n",
      "Now training + evaluating on hidden size 28\n",
      "Now training + evaluating on hidden size 29\n",
      "Now training + evaluating on hidden size 30\n",
      "Now training + evaluating on hidden size 31\n",
      "Now training + evaluating on hidden size 32\n",
      "Now training + evaluating on hidden size 33\n",
      "Now training + evaluating on hidden size 34\n",
      "Now training + evaluating on hidden size 35\n",
      "Now training + evaluating on hidden size 36\n",
      "Now training + evaluating on hidden size 37\n",
      "Now training + evaluating on hidden size 38\n",
      "Now training + evaluating on hidden size 39\n",
      "Now training + evaluating on hidden size 40\n",
      "Now training + evaluating on hidden size 41\n",
      "Now training + evaluating on hidden size 42\n",
      "Now training + evaluating on hidden size 43\n",
      "Now training + evaluating on hidden size 44\n",
      "Now training + evaluating on hidden size 45\n",
      "Now training + evaluating on hidden size 46\n",
      "Now training + evaluating on hidden size 47\n",
      "Now training + evaluating on hidden size 48\n",
      "Now training + evaluating on hidden size 49\n",
      "Now training + evaluating on hidden size 50\n",
      "Now training + evaluating on hidden size 51\n",
      "Now training + evaluating on hidden size 52\n",
      "Now training + evaluating on hidden size 53\n",
      "Now training + evaluating on hidden size 54\n",
      "Now training + evaluating on hidden size 55\n",
      "Now training + evaluating on hidden size 56\n",
      "Now training + evaluating on hidden size 57\n",
      "Now training + evaluating on hidden size 58\n",
      "Now training + evaluating on hidden size 59\n",
      "[0.34210526315789475, 0.3628808864265928, 0.34210526315789475, 0.3656509695290859, 0.3628808864265928, 0.36426592797783935, 0.6952908587257618, 0.3628808864265928, 0.3628808864265928, 0.34210526315789475, 0.3739612188365651, 0.3628808864265928, 0.3670360110803324, 0.3628808864265928, 0.34210526315789475, 0.3628808864265928, 0.3628808864265928, 0.36426592797783935, 0.3656509695290859, 0.6966759002770083, 0.8864265927977839, 0.36426592797783935, 0.3476454293628809, 0.6897506925207756, 0.3808864265927978, 0.6440443213296398, 0.34210526315789475, 0.7049861495844876, 0.6897506925207756, 1.0, 0.9487534626038782, 0.9722991689750693, 0.3628808864265928, 0.38365650969529086, 0.7188365650969529, 0.6952908587257618, 1.0, 0.6343490304709142, 0.3656509695290859, 0.5526315789473685, 0.6925207756232687, 0.9986149584487535, 0.29778393351800553, 1.0, 0.9833795013850416, 0.6717451523545707, 0.9930747922437673, 1.0, 1.0, 0.3670360110803324, 0.997229916897507, 0.9986149584487535, 0.6994459833795014, 0.9002770083102493, 0.6135734072022161, 0.703601108033241, 0.7132963988919667, 0.685595567867036, 1.0]\n",
      "[0.2983425414364641, 0.3701657458563536, 0.2983425414364641, 0.3701657458563536, 0.3701657458563536, 0.3701657458563536, 0.6629834254143646, 0.3701657458563536, 0.3701657458563536, 0.2983425414364641, 0.3701657458563536, 0.3701657458563536, 0.3701657458563536, 0.3701657458563536, 0.2983425414364641, 0.3701657458563536, 0.3701657458563536, 0.3701657458563536, 0.3701657458563536, 0.5966850828729282, 0.7734806629834254, 0.3756906077348066, 0.30386740331491713, 0.6132596685082873, 0.3756906077348066, 0.585635359116022, 0.2983425414364641, 0.6574585635359116, 0.6353591160220995, 0.8232044198895028, 0.8397790055248618, 0.7955801104972375, 0.3701657458563536, 0.30939226519337015, 0.6353591160220995, 0.6353591160220995, 0.8066298342541437, 0.569060773480663, 0.30386740331491713, 0.5082872928176796, 0.6408839779005525, 0.8784530386740331, 0.3259668508287293, 0.9226519337016574, 0.7845303867403315, 0.6187845303867403, 0.8342541436464088, 0.861878453038674, 0.7790055248618785, 0.3701657458563536, 0.850828729281768, 0.8232044198895028, 0.6187845303867403, 0.6519337016574586, 0.56353591160221, 0.6243093922651933, 0.6464088397790055, 0.6187845303867403, 0.8453038674033149]\n"
     ]
    }
   ],
   "source": [
    "train_accuracy_list = []\n",
    "val_accuracy_list = []\n",
    "\n",
    "for hidden_size in range(1,60):\n",
    "    print(\"Now training + evaluating on hidden size\", hidden_size)\n",
    "    clf = MLPClassifier(hidden_layer_sizes=hidden_size, random_state=42, max_iter=1000, activation='relu')\n",
    "    clf.fit(X_train,y_train)\n",
    "    train_accuracy_list.append((clf.predict(X_train) == y_train).sum() / len(y_train))\n",
    "    val_accuracy_list.append((clf.predict(X_val) == y_val).sum() / len(y_val))\n",
    "\n",
    "print(train_accuracy_list)\n",
    "print(val_accuracy_list)"
   ]
  },
  {
   "cell_type": "code",
   "execution_count": 11,
   "id": "69d2aab4",
   "metadata": {},
   "outputs": [],
   "source": [
    "input_size = (512*16*16)+2"
   ]
  },
  {
   "cell_type": "code",
   "execution_count": 13,
   "id": "adc8291d",
   "metadata": {},
   "outputs": [
    {
     "data": {
      "text/plain": [
       "Text(0.5, 1.0, 'Training for Generalization')"
      ]
     },
     "execution_count": 13,
     "metadata": {},
     "output_type": "execute_result"
    },
    {
     "data": {
      "image/png": "[encoded data removed]",
      "text/plain": [
       "<Figure size 432x288 with 1 Axes>"
      ]
     },
     "metadata": {
      "needs_background": "light"
     },
     "output_type": "display_data"
    }
   ],
   "source": [
    "graph, plot = plt.subplots()\n",
    "plt.plot(list(range(input_size,input_size*60, input_size)), train_accuracy_list, label=\"Train\")\n",
    "plt.plot(list(range(input_size,input_size*60, input_size)), val_accuracy_list, label=\"Valid\")\n",
    "plt.axvline(x=30*input_size, color='black', label=\"N_Approx\")\n",
    "plt.legend()\n",
    "plot.invert_xaxis()\n",
    "plt.xlabel(\"Model MEC (bits)\")\n",
    "plt.ylabel(\"Accuracy\")\n",
    "plt.title(\"Training for Generalization\")"
   ]
  },
  {
   "cell_type": "code",
   "execution_count": 14,
   "id": "69475d0b",
   "metadata": {},
   "outputs": [
    {
     "name": "stdout",
     "output_type": "stream",
     "text": [
      "0.9487534626038782 0.8397790055248618\n"
     ]
    }
   ],
   "source": [
    "print(train_accuracy_list[30],val_accuracy_list[30])"
   ]
  },
  {
   "cell_type": "code",
   "execution_count": 15,
   "id": "f14e19d7",
   "metadata": {},
   "outputs": [
    {
     "name": "stdout",
     "output_type": "stream",
     "text": [
      "The training accuracy after choosing the hidden layer size is 1.0\n",
      "The generalization after choosing the hidden layer size is 0.0003625914810677456\n"
     ]
    }
   ],
   "source": [
    "clf_30 = MLPClassifier(hidden_layer_sizes=(30,), random_state=42, max_iter=1000, activation='relu')\n",
    "clf_30.fit(X,y)\n",
    "num_correct = (clf_30.predict(X) == y).sum()\n",
    "acc = num_correct  / len(y)\n",
    "print(\"The training accuracy after choosing the hidden layer size is\", acc)\n",
    "print(\"The generalization after choosing the hidden layer size is\", num_correct / (input_size*19))"
   ]
  },
  {
   "cell_type": "code",
   "execution_count": 16,
   "id": "12934c25",
   "metadata": {},
   "outputs": [
    {
     "name": "stdout",
     "output_type": "stream",
     "text": [
      "The test accuracy after choosing the hidden layer size is 0.5752212389380531\n"
     ]
    }
   ],
   "source": [
    "test_data = pd.read_csv(\"combined_test_features.csv\")\n",
    "X_test = test_data.iloc[:,1:-1]\n",
    "y_test = test_data.iloc[:,-1]\n",
    "\n",
    "num_correct = (clf_30.predict(X_test) == y_test).sum()\n",
    "acc = num_correct / len(y_test)\n",
    "print(\"The test accuracy after choosing the hidden layer size is \" + str(acc))"
   ]
  },
  {
   "cell_type": "code",
   "execution_count": 17,
   "id": "de711068",
   "metadata": {},
   "outputs": [
    {
     "name": "stdout",
     "output_type": "stream",
     "text": [
      "              precision    recall  f1-score   support\n",
      "\n",
      "         Dry       0.86      0.43      0.57        42\n",
      "      Normal       0.46      0.72      0.56        39\n",
      "         Wet       0.65      0.62      0.63        32\n",
      "\n",
      "    accuracy                           0.58       113\n",
      "   macro avg       0.65      0.59      0.59       113\n",
      "weighted avg       0.66      0.58      0.59       113\n",
      "\n"
     ]
    },
    {
     "data": {
      "text/plain": [
       "array([[18, 21,  3],\n",
       "       [ 3, 28,  8],\n",
       "       [ 0, 12, 20]])"
      ]
     },
     "execution_count": 17,
     "metadata": {},
     "output_type": "execute_result"
    }
   ],
   "source": [
    "print(classification_report(y_test, clf_30.predict(X_test), target_names=['Dry', 'Normal', 'Wet']))\n",
    "accuracy_score(y_test, clf_30.predict(X_test), normalize=False)\n",
    "confusion_matrix(y_test, clf_30.predict(X_test))"
   ]
  },
  {
   "cell_type": "code",
   "execution_count": null,
   "id": "0fee8070",
   "metadata": {},
   "outputs": [],
   "source": []
  }
 ],
 "metadata": {
  "kernelspec": {
   "display_name": "Python 3 (ipykernel)",
   "language": "python",
   "name": "python3"
  },
  "language_info": {
   "codemirror_mode": {
    "name": "ipython",
    "version": 3
   },
   "file_extension": ".py",
   "mimetype": "text/x-python",
   "name": "python",
   "nbconvert_exporter": "python",
   "pygments_lexer": "ipython3",
   "version": "3.8.3"
  },
  "toc": {
   "base_numbering": 1,
   "nav_menu": {},
   "number_sections": true,
   "sideBar": true,
   "skip_h1_title": false,
   "title_cell": "Table of Contents",
   "title_sidebar": "Contents",
   "toc_cell": false,
   "toc_position": {},
   "toc_section_display": true,
   "toc_window_display": false
  }
 },
 "nbformat": 4,
 "nbformat_minor": 5
}
