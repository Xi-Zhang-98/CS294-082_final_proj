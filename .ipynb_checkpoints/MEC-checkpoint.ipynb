{
 "cells": [
  {
   "cell_type": "code",
   "execution_count": 2,
   "id": "5b9cfced",
   "metadata": {},
   "outputs": [],
   "source": [
    "import numpy as np\n",
    "NUMCLASS = 3\n",
    "dimension = 512 * 7 * 7\n",
    "import math\n",
    "\n",
    "\n",
    "def mec(data, label):\n",
    "    data[\"sum\"] = data.sum(axis=1)\n",
    "    data = data.sort_values(by=['sum'])\n",
    "    check = label[0]\n",
    "    threshold = np.zeros(3)\n",
    "    mec = 0\n",
    "    for i in range(data.shape[0]):\n",
    "        if label[i] != check:\n",
    "            threshold[label[i]] += 1\n",
    "            check = label[i]\n",
    "    for i in range(NUMCLASS):\n",
    "        mec += (1 / NUMCLASS) * math.log2((threshold[i] + 1)) * dimension\n",
    "    return mec\n",
    "\n",
    "\n"
   ]
  },
  {
   "cell_type": "code",
   "execution_count": 3,
   "id": "ba7c06b3",
   "metadata": {},
   "outputs": [
    {
     "ename": "NameError",
     "evalue": "name 'lables' is not defined",
     "output_type": "error",
     "traceback": [
      "\u001b[0;31m---------------------------------------------------------------------------\u001b[0m",
      "\u001b[0;31mNameError\u001b[0m                                 Traceback (most recent call last)",
      "\u001b[0;32m/var/folders/7z/5cbszf0j4nbf3sg47rn542q00000gn/T/ipykernel_11876/650111870.py\u001b[0m in \u001b[0;36m<module>\u001b[0;34m\u001b[0m\n\u001b[1;32m     18\u001b[0m \u001b[0;34m\u001b[0m\u001b[0m\n\u001b[1;32m     19\u001b[0m \u001b[0mfeatures_dataframe\u001b[0m \u001b[0;34m=\u001b[0m \u001b[0mpd\u001b[0m\u001b[0;34m.\u001b[0m\u001b[0mDataFrame\u001b[0m\u001b[0;34m(\u001b[0m\u001b[0mfeatures\u001b[0m\u001b[0;34m)\u001b[0m\u001b[0;34m\u001b[0m\u001b[0;34m\u001b[0m\u001b[0m\n\u001b[0;32m---> 20\u001b[0;31m \u001b[0mmec\u001b[0m\u001b[0;34m(\u001b[0m\u001b[0mfeatures_dataframe\u001b[0m\u001b[0;34m,\u001b[0m \u001b[0mlables\u001b[0m\u001b[0;34m)\u001b[0m\u001b[0;34m\u001b[0m\u001b[0;34m\u001b[0m\u001b[0m\n\u001b[0m",
      "\u001b[0;31mNameError\u001b[0m: name 'lables' is not defined"
     ]
    }
   ],
   "source": [
    "from PIL import Image\n",
    "import pandas as pd\n",
    "import numpy as np\n",
    "import os\n",
    "root_dir = './data/processed_ODIR/training/' # dry_158_left.jpg\n",
    "features, labels = [], []\n",
    "label_map = {'dry': 0, 'normal': 1, 'wet': 2}\n",
    "\n",
    "\n",
    "for filename in os.listdir(root_dir):\n",
    "    file_dir = root_dir + filename\n",
    "    img = np.array(Image.open(file_dir).convert(\"RGB\")).ravel()\n",
    "    label = label_map[filename.split(\"_\")[0]]\n",
    "    \n",
    "    features.append(img)\n",
    "    labels.append(label)\n",
    "\n",
    "    \n",
    "features_dataframe = pd.DataFrame(features)\n",
    "mec(features_dataframe, labels)"
   ]
  },
  {
   "cell_type": "code",
   "execution_count": null,
   "id": "45beb526",
   "metadata": {},
   "outputs": [],
   "source": [
    "features_dataframe.to_csv(\"training.csv\")"
   ]
  },
  {
   "cell_type": "code",
   "execution_count": null,
   "id": "a28b91d0",
   "metadata": {},
   "outputs": [],
   "source": []
  }
 ],
 "metadata": {
  "kernelspec": {
   "display_name": "Python 3 (ipykernel)",
   "language": "python",
   "name": "python3"
  },
  "language_info": {
   "codemirror_mode": {
    "name": "ipython",
    "version": 3
   },
   "file_extension": ".py",
   "mimetype": "text/x-python",
   "name": "python",
   "nbconvert_exporter": "python",
   "pygments_lexer": "ipython3",
   "version": "3.9.6"
  }
 },
 "nbformat": 4,
 "nbformat_minor": 5
}
