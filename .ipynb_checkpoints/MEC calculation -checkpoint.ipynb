{
 "cells": [
  {
   "cell_type": "code",
   "execution_count": null,
   "id": "5b9cfced",
   "metadata": {},
   "outputs": [],
   "source": [
    "import numpy as np\n",
    "NUMCLASS = 3\n",
    "NUMFEATURE = 256 * 256 * 3\n",
    "\n",
    "\n",
    "def mec (data, label):\n",
    "    check = label[0]\n",
    "    threshold = np.zeros(3)\n",
    "    mec = 0\n",
    "    for i in range(data.shape[0]):\n",
    "        if label[i] != check:\n",
    "            threshold[label[i]] += 1\n",
    "            check = label[i]\n",
    "    for i in range(NUMCLASS):\n",
    "        mec += (1 / NUMCLASS) * math.log2((threshold[i] + 1)) * NUMFEATURE\n",
    "    return mec\n",
    "\n",
    "label = np.array(df[\"class\"])\n",
    "# get mec \n",
    "# mec(data, label)\n",
    "\n",
    "    "
   ]
  }
 ],
 "metadata": {
  "kernelspec": {
   "display_name": "Python 3 (ipykernel)",
   "language": "python",
   "name": "python3"
  },
  "language_info": {
   "codemirror_mode": {
    "name": "ipython",
    "version": 3
   },
   "file_extension": ".py",
   "mimetype": "text/x-python",
   "name": "python",
   "nbconvert_exporter": "python",
   "pygments_lexer": "ipython3",
   "version": "3.9.6"
  }
 },
 "nbformat": 4,
 "nbformat_minor": 5
}
